{
 "cells": [
  {
   "cell_type": "markdown",
   "metadata": {},
   "source": [
    "# ResNet for tabular data"
   ]
  },
  {
   "cell_type": "code",
   "execution_count": 1,
   "metadata": {},
   "outputs": [],
   "source": [
    "from comet_ml import Experiment\n",
    "\n",
    "import pandas as pd\n",
    "import numpy as np\n",
    "\n",
    "from sklearn.model_selection import train_test_split\n",
    "from sklearn.metrics import roc_auc_score\n",
    "\n",
    "import torch\n",
    "from torch import nn\n",
    "from torch.utils.data import DataLoader, TensorDataset\n",
    "\n",
    "from tqdm.notebook import tqdm_notebook as tqdm\n",
    "\n",
    "from matplotlib import pyplot as plt\n",
    "import seaborn as sns\n",
    "\n",
    "COMET_ML_API_KEY = \"\"\n",
    "COMET_ML_PROJECT_NAME = \"resnet-tabular\"\n",
    "COMET_ML_WORKSPACE = \"nikolai-semenov\""
   ]
  },
  {
   "cell_type": "markdown",
   "metadata": {},
   "source": [
    "## Data preparation\n",
    "\n",
    "Sources:\n",
    "1. https://archive.ics.uci.edu/ml/datasets/SUSY\n",
    "1. https://archive.ics.uci.edu/ml/datasets/HIGGS"
   ]
  },
  {
   "cell_type": "code",
   "execution_count": 2,
   "metadata": {},
   "outputs": [
    {
     "name": "stdout",
     "output_type": "stream",
     "text": [
      "CPU times: user 2min 52s, sys: 4.02 s, total: 2min 56s\n",
      "Wall time: 2min 57s\n"
     ]
    }
   ],
   "source": [
    "%%time\n",
    "SUSY = pd.read_csv('data/SUSY.csv.gz', header=None)\n",
    "HIGGS = pd.read_csv('data/HIGGS.csv.gz', header=None)"
   ]
  },
  {
   "cell_type": "markdown",
   "metadata": {},
   "source": [
    "## Experiment preparation\n",
    "\n",
    "View panel: https://www.comet.ml/nikolai-semenov/resnet-tabular/view/Iy69366eJvLEKY4yKNkqenI1j"
   ]
  },
  {
   "cell_type": "code",
   "execution_count": 3,
   "metadata": {},
   "outputs": [],
   "source": [
    "def perform_experiment(\n",
    "    model,\n",
    "    X,\n",
    "    y,\n",
    "    test_size,\n",
    "    batch_size,\n",
    "    num_epochs,\n",
    "    hyper_params={},\n",
    "    log_every=100,\n",
    "    random_state=42\n",
    "):\n",
    "    experiment = Experiment(\n",
    "        api_key=COMET_ML_API_KEY,\n",
    "        project_name=COMET_ML_PROJECT_NAME,\n",
    "        workspace=COMET_ML_WORKSPACE,\n",
    "    )\n",
    "    if hyper_params:\n",
    "        experiment.log_parameters(hyper_params)\n",
    "    experiment.log_parameters({\n",
    "        \"test_size\": test_size,\n",
    "        \"batch_size\": batch_size,\n",
    "        \"num_epochs\": num_epochs,\n",
    "    })\n",
    "    \n",
    "    X_train, X_test, y_train, y_test = train_test_split(X, y, test_size=test_size, random_state=random_state)\n",
    "    \n",
    "    X_train = torch.Tensor(X_train)\n",
    "    X_test = torch.Tensor(X_test)\n",
    "    y_train = torch.Tensor(y_train)\n",
    "    y_test = torch.Tensor(y_test)\n",
    "    \n",
    "    train_dataset = TensorDataset(X_train, y_train)    \n",
    "    train_loader = DataLoader(dataset=train_dataset, batch_size=batch_size, shuffle=True)\n",
    "\n",
    "    criterion = nn.BCELoss()\n",
    "    optimizer = torch.optim.Adam(model.parameters(), lr=1e-3, betas=(0.9, 0.999))\n",
    "\n",
    "\n",
    "    step = 0\n",
    "    for epoch in tqdm(range(num_epochs), desc=\"Epoch\", total=num_epochs):\n",
    "        with experiment.train():\n",
    "            model.train()\n",
    "            for i, (x, y_true) in enumerate(train_loader):\n",
    "                optimizer.zero_grad()\n",
    "                y = model(x)\n",
    "                loss = criterion(y, y_true)\n",
    "                loss.backward()\n",
    "                optimizer.step()\n",
    "                \n",
    "                step += 1  \n",
    "                if step % log_every == 0:\n",
    "                    experiment.log_metric(\"batch_loss\", loss.item(), step=step, epoch=epoch)\n",
    "            model.eval()\n",
    "            with torch.no_grad():\n",
    "                train_score = roc_auc_score(y_train.numpy(), model(X_train).numpy())\n",
    "                experiment.log_metric(\"score\", train_score, step=epoch, epoch=epoch)\n",
    "        with experiment.test():\n",
    "            model.eval()\n",
    "            with torch.no_grad():\n",
    "                test_score = roc_auc_score(y_test.numpy(), model(X_test).numpy())\n",
    "                experiment.log_metric(\"score\", test_score, step=epoch, epoch=epoch)\n",
    "    experiment.end()"
   ]
  },
  {
   "cell_type": "markdown",
   "metadata": {},
   "source": [
    "## Baseline"
   ]
  },
  {
   "cell_type": "code",
   "execution_count": 4,
   "metadata": {},
   "outputs": [],
   "source": [
    "class BaselineModel(nn.Module):\n",
    "    def __init__(self, input_size, n):\n",
    "        super().__init__()\n",
    "        self.baseline_model = nn.Sequential(\n",
    "            nn.Linear(input_size, 8 * n),\n",
    "            nn.LeakyReLU(negative_slope=1e-1),\n",
    "            nn.Linear(8 * n, 6 * n),\n",
    "            nn.LeakyReLU(negative_slope=1e-1),\n",
    "            nn.Linear(6 * n, 4 * n),\n",
    "            nn.LeakyReLU(negative_slope=1e-1),\n",
    "            nn.Linear(4 * n, 3 * n),\n",
    "            nn.LeakyReLU(negative_slope=1e-1),\n",
    "            nn.Linear(3 * n, 2 * n),\n",
    "            nn.LeakyReLU(negative_slope=1e-1),\n",
    "            nn.Linear(2 * n, 1),\n",
    "            nn.Sigmoid()\n",
    "        )\n",
    "        \n",
    "        def init_weights(layer):\n",
    "            if type(layer) == nn.Linear:\n",
    "                nn.init.normal_(layer.weight, std=1e-3)\n",
    "        \n",
    "        self.baseline_model.apply(init_weights)\n",
    "\n",
    "    def forward(self, x):\n",
    "        return self.baseline_model(x).reshape(-1)"
   ]
  },
  {
   "cell_type": "code",
   "execution_count": 12,
   "metadata": {
    "scrolled": true
   },
   "outputs": [
    {
     "name": "stderr",
     "output_type": "stream",
     "text": [
      "COMET INFO: ---------------------------\n",
      "COMET INFO: Comet.ml Experiment Summary\n",
      "COMET INFO: ---------------------------\n",
      "COMET INFO:   Data:\n",
      "COMET INFO:     display_summary_level : 1\n",
      "COMET INFO:     url                   : https://www.comet.ml/nikolai-semenov/resnet-tabular/e1b1cf45f6be4011be63cc764fc1f33a\n",
      "COMET INFO:   Metrics [count] (min, max):\n",
      "COMET INFO:     test_score [67]           : (0.5, 0.871193763455273)\n",
      "COMET INFO:     train_batch_ROC_AUC [850] : (0.5, 0.8992672450096859)\n",
      "COMET INFO:     train_batch_loss [850]    : (0.39205673336982727, 0.6951355338096619)\n",
      "COMET INFO:     train_loss [171]          : (0.39205673336982727, 0.6905364990234375)\n",
      "COMET INFO:   Parameters:\n",
      "COMET INFO:     batch_size : 2048\n",
      "COMET INFO:     dataset    : SUSY\n",
      "COMET INFO:     model      : baseline\n",
      "COMET INFO:     n          : 4\n",
      "COMET INFO:     num_epochs : 100\n",
      "COMET INFO:     test_size  : 0.99\n",
      "COMET INFO:   Uploads:\n",
      "COMET INFO:     environment details : 1\n",
      "COMET INFO:     filename            : 1\n",
      "COMET INFO:     installed packages  : 1\n",
      "COMET INFO:     model graph         : 1\n",
      "COMET INFO:     os packages         : 1\n",
      "COMET INFO: ---------------------------\n",
      "COMET INFO: Experiment is live on comet.ml https://www.comet.ml/nikolai-semenov/resnet-tabular/7a5bbe7cc2d24768be83c81604e666cb\n",
      "\n"
     ]
    },
    {
     "data": {
      "application/vnd.jupyter.widget-view+json": {
       "model_id": "02161be1803242dcbc755b29c9042239",
       "version_major": 2,
       "version_minor": 0
      },
      "text/plain": [
       "HBox(children=(FloatProgress(value=0.0, description='Epoch', style=ProgressStyle(description_width='initial'))…"
      ]
     },
     "metadata": {},
     "output_type": "display_data"
    },
    {
     "name": "stderr",
     "output_type": "stream",
     "text": [
      "COMET INFO: ---------------------------\n",
      "COMET INFO: Comet.ml Experiment Summary\n",
      "COMET INFO: ---------------------------\n",
      "COMET INFO:   Data:\n",
      "COMET INFO:     display_summary_level : 1\n",
      "COMET INFO:     url                   : https://www.comet.ml/nikolai-semenov/resnet-tabular/7a5bbe7cc2d24768be83c81604e666cb\n",
      "COMET INFO:   Metrics [count] (min, max):\n",
      "COMET INFO:     test_score [100]        : (0.5, 0.8690514289959075)\n",
      "COMET INFO:     train_batch_loss [1250] : (0.4085255265235901, 0.6944254636764526)\n",
      "COMET INFO:     train_loss [260]        : (0.41125988960266113, 0.6930562257766724)\n",
      "COMET INFO:     train_score [100]       : (0.5, 0.868340939809526)\n",
      "COMET INFO:   Parameters:\n",
      "COMET INFO:     batch_size : 2048\n",
      "COMET INFO:     dataset    : SUSY\n",
      "COMET INFO:     model      : baseline\n",
      "COMET INFO:     n          : 1\n",
      "COMET INFO:     num_epochs : 100\n",
      "COMET INFO:     test_size  : 0.99\n",
      "COMET INFO:   Uploads:\n",
      "COMET INFO:     code                : 1 (12 KB)\n",
      "COMET INFO:     environment details : 1\n",
      "COMET INFO:     filename            : 1\n",
      "COMET INFO:     installed packages  : 1\n",
      "COMET INFO:     model graph         : 1\n",
      "COMET INFO:     os packages         : 1\n",
      "COMET INFO: ---------------------------\n"
     ]
    },
    {
     "name": "stdout",
     "output_type": "stream",
     "text": [
      "\n"
     ]
    },
    {
     "name": "stderr",
     "output_type": "stream",
     "text": [
      "COMET INFO: Uploading stats to Comet before program termination (may take several seconds)\n",
      "COMET INFO: Still uploading\n",
      "COMET INFO: Experiment is live on comet.ml https://www.comet.ml/nikolai-semenov/resnet-tabular/570e7c2403ab4999993630b362bc047e\n",
      "\n"
     ]
    },
    {
     "data": {
      "application/vnd.jupyter.widget-view+json": {
       "model_id": "e5bbfec819b545fdaf6b652fe2a98beb",
       "version_major": 2,
       "version_minor": 0
      },
      "text/plain": [
       "HBox(children=(FloatProgress(value=0.0, description='Epoch', style=ProgressStyle(description_width='initial'))…"
      ]
     },
     "metadata": {},
     "output_type": "display_data"
    },
    {
     "name": "stderr",
     "output_type": "stream",
     "text": [
      "COMET INFO: ---------------------------\n",
      "COMET INFO: Comet.ml Experiment Summary\n",
      "COMET INFO: ---------------------------\n",
      "COMET INFO:   Data:\n",
      "COMET INFO:     display_summary_level : 1\n",
      "COMET INFO:     url                   : https://www.comet.ml/nikolai-semenov/resnet-tabular/570e7c2403ab4999993630b362bc047e\n",
      "COMET INFO:   Metrics [count] (min, max):\n",
      "COMET INFO:     test_score [100]        : (0.5256859208249698, 0.8720553175609976)\n",
      "COMET INFO:     train_batch_loss [1250] : (0.4023769497871399, 0.6971518993377686)\n",
      "COMET INFO:     train_loss [260]        : (0.4042855501174927, 0.6971518993377686)\n",
      "COMET INFO:     train_score [100]       : (0.5266600421445448, 0.8730356614242216)\n",
      "COMET INFO:   Parameters:\n",
      "COMET INFO:     batch_size : 2048\n",
      "COMET INFO:     dataset    : SUSY\n",
      "COMET INFO:     model      : baseline\n",
      "COMET INFO:     n          : 4\n",
      "COMET INFO:     num_epochs : 100\n",
      "COMET INFO:     test_size  : 0.99\n",
      "COMET INFO:   Uploads:\n",
      "COMET INFO:     code                : 1 (12 KB)\n",
      "COMET INFO:     environment details : 1\n",
      "COMET INFO:     filename            : 1\n",
      "COMET INFO:     installed packages  : 1\n",
      "COMET INFO:     model graph         : 1\n",
      "COMET INFO:     os packages         : 1\n",
      "COMET INFO: ---------------------------\n"
     ]
    },
    {
     "name": "stdout",
     "output_type": "stream",
     "text": [
      "\n"
     ]
    },
    {
     "name": "stderr",
     "output_type": "stream",
     "text": [
      "COMET INFO: Uploading stats to Comet before program termination (may take several seconds)\n",
      "COMET INFO: Experiment is live on comet.ml https://www.comet.ml/nikolai-semenov/resnet-tabular/08c664cd1b80499e99794957ae1d61a9\n",
      "\n"
     ]
    },
    {
     "data": {
      "application/vnd.jupyter.widget-view+json": {
       "model_id": "5659df31985b4e9ea5317d0303b569fb",
       "version_major": 2,
       "version_minor": 0
      },
      "text/plain": [
       "HBox(children=(FloatProgress(value=0.0, description='Epoch', style=ProgressStyle(description_width='initial'))…"
      ]
     },
     "metadata": {},
     "output_type": "display_data"
    },
    {
     "name": "stderr",
     "output_type": "stream",
     "text": [
      "COMET INFO: ---------------------------\n",
      "COMET INFO: Comet.ml Experiment Summary\n",
      "COMET INFO: ---------------------------\n",
      "COMET INFO:   Data:\n",
      "COMET INFO:     display_summary_level : 1\n",
      "COMET INFO:     url                   : https://www.comet.ml/nikolai-semenov/resnet-tabular/08c664cd1b80499e99794957ae1d61a9\n",
      "COMET INFO:   Metrics [count] (min, max):\n",
      "COMET INFO:     test_score [100]        : (0.7999182209009513, 0.872854681554915)\n",
      "COMET INFO:     train_batch_loss [1250] : (0.3952581286430359, 0.6922152042388916)\n",
      "COMET INFO:     train_loss [260]        : (0.3952581286430359, 0.691512942314148)\n",
      "COMET INFO:     train_score [100]       : (0.7980824656403208, 0.8744545354669034)\n",
      "COMET INFO:   Parameters:\n",
      "COMET INFO:     batch_size : 2048\n",
      "COMET INFO:     dataset    : SUSY\n",
      "COMET INFO:     model      : baseline\n",
      "COMET INFO:     n          : 16\n",
      "COMET INFO:     num_epochs : 100\n",
      "COMET INFO:     test_size  : 0.99\n",
      "COMET INFO:   Uploads:\n",
      "COMET INFO:     code                : 1 (12 KB)\n",
      "COMET INFO:     environment details : 1\n",
      "COMET INFO:     filename            : 1\n",
      "COMET INFO:     installed packages  : 1\n",
      "COMET INFO:     model graph         : 1\n",
      "COMET INFO:     os packages         : 1\n",
      "COMET INFO: ---------------------------\n"
     ]
    },
    {
     "name": "stdout",
     "output_type": "stream",
     "text": [
      "\n"
     ]
    },
    {
     "name": "stderr",
     "output_type": "stream",
     "text": [
      "COMET INFO: Uploading stats to Comet before program termination (may take several seconds)\n",
      "COMET INFO: Experiment is live on comet.ml https://www.comet.ml/nikolai-semenov/resnet-tabular/dec4693f0811496e9e02c2f6c463961a\n",
      "\n"
     ]
    },
    {
     "data": {
      "application/vnd.jupyter.widget-view+json": {
       "model_id": "598fc839c06a489f902cfb9bdc36d625",
       "version_major": 2,
       "version_minor": 0
      },
      "text/plain": [
       "HBox(children=(FloatProgress(value=0.0, description='Epoch', style=ProgressStyle(description_width='initial'))…"
      ]
     },
     "metadata": {},
     "output_type": "display_data"
    },
    {
     "name": "stderr",
     "output_type": "stream",
     "text": [
      "COMET INFO: ---------------------------\n",
      "COMET INFO: Comet.ml Experiment Summary\n",
      "COMET INFO: ---------------------------\n",
      "COMET INFO:   Data:\n",
      "COMET INFO:     display_summary_level : 1\n",
      "COMET INFO:     url                   : https://www.comet.ml/nikolai-semenov/resnet-tabular/dec4693f0811496e9e02c2f6c463961a\n",
      "COMET INFO:   Metrics [count] (min, max):\n",
      "COMET INFO:     test_score [100]        : (0.5, 0.8643058614771257)\n",
      "COMET INFO:     train_batch_loss [1289] : (0.4088015556335449, 0.693234920501709)\n",
      "COMET INFO:     train_loss [2473]       : (0.3692437708377838, 0.6994836330413818)\n",
      "COMET INFO:     train_score [100]       : (0.5, 0.8636989285189698)\n",
      "COMET INFO:   Parameters:\n",
      "COMET INFO:     batch_size : 2048\n",
      "COMET INFO:     dataset    : SUSY\n",
      "COMET INFO:     model      : baseline\n",
      "COMET INFO:     n          : 1\n",
      "COMET INFO:     num_epochs : 100\n",
      "COMET INFO:     test_size  : 0.9\n",
      "COMET INFO:   Uploads:\n",
      "COMET INFO:     code                : 1 (12 KB)\n",
      "COMET INFO:     environment details : 1\n",
      "COMET INFO:     filename            : 1\n",
      "COMET INFO:     installed packages  : 1\n",
      "COMET INFO:     model graph         : 1\n",
      "COMET INFO:     os packages         : 1\n",
      "COMET INFO: ---------------------------\n"
     ]
    },
    {
     "name": "stdout",
     "output_type": "stream",
     "text": [
      "\n"
     ]
    },
    {
     "name": "stderr",
     "output_type": "stream",
     "text": [
      "COMET INFO: Uploading stats to Comet before program termination (may take several seconds)\n",
      "COMET INFO: Experiment is live on comet.ml https://www.comet.ml/nikolai-semenov/resnet-tabular/ef24423a406e41c3b386ec3090e9f322\n",
      "\n"
     ]
    },
    {
     "data": {
      "application/vnd.jupyter.widget-view+json": {
       "model_id": "fddc54182c2143f2b748af2c4520352a",
       "version_major": 2,
       "version_minor": 0
      },
      "text/plain": [
       "HBox(children=(FloatProgress(value=0.0, description='Epoch', style=ProgressStyle(description_width='initial'))…"
      ]
     },
     "metadata": {},
     "output_type": "display_data"
    },
    {
     "name": "stderr",
     "output_type": "stream",
     "text": [
      "COMET INFO: ---------------------------\n",
      "COMET INFO: Comet.ml Experiment Summary\n",
      "COMET INFO: ---------------------------\n",
      "COMET INFO:   Data:\n",
      "COMET INFO:     display_summary_level : 1\n",
      "COMET INFO:     url                   : https://www.comet.ml/nikolai-semenov/resnet-tabular/ef24423a406e41c3b386ec3090e9f322\n",
      "COMET INFO:   Metrics [count] (min, max):\n",
      "COMET INFO:     test_score [100]        : (0.8527110534664829, 0.8753595417888297)\n",
      "COMET INFO:     train_batch_loss [1289] : (0.39231160283088684, 0.7072004675865173)\n",
      "COMET INFO:     train_loss [2473]       : (0.35656487941741943, 0.7015822529792786)\n",
      "COMET INFO:     train_score [100]       : (0.8522012092393245, 0.875217558717703)\n",
      "COMET INFO:   Parameters:\n",
      "COMET INFO:     batch_size : 2048\n",
      "COMET INFO:     dataset    : SUSY\n",
      "COMET INFO:     model      : baseline\n",
      "COMET INFO:     n          : 4\n",
      "COMET INFO:     num_epochs : 100\n",
      "COMET INFO:     test_size  : 0.9\n",
      "COMET INFO:   Uploads:\n",
      "COMET INFO:     code                : 1 (12 KB)\n",
      "COMET INFO:     environment details : 1\n",
      "COMET INFO:     filename            : 1\n",
      "COMET INFO:     installed packages  : 1\n",
      "COMET INFO:     model graph         : 1\n",
      "COMET INFO:     os packages         : 1\n",
      "COMET INFO: ---------------------------\n"
     ]
    },
    {
     "name": "stdout",
     "output_type": "stream",
     "text": [
      "\n"
     ]
    },
    {
     "name": "stderr",
     "output_type": "stream",
     "text": [
      "COMET INFO: Uploading stats to Comet before program termination (may take several seconds)\n",
      "COMET INFO: Experiment is live on comet.ml https://www.comet.ml/nikolai-semenov/resnet-tabular/55ecbb54c7ac4a6fa4a54689ade95992\n",
      "\n"
     ]
    },
    {
     "data": {
      "application/vnd.jupyter.widget-view+json": {
       "model_id": "bb805bfcde5e40d29ba6e64d14d978b4",
       "version_major": 2,
       "version_minor": 0
      },
      "text/plain": [
       "HBox(children=(FloatProgress(value=0.0, description='Epoch', style=ProgressStyle(description_width='initial'))…"
      ]
     },
     "metadata": {},
     "output_type": "display_data"
    },
    {
     "name": "stderr",
     "output_type": "stream",
     "text": [
      "COMET INFO: ---------------------------\n",
      "COMET INFO: Comet.ml Experiment Summary\n",
      "COMET INFO: ---------------------------\n",
      "COMET INFO:   Data:\n",
      "COMET INFO:     display_summary_level : 1\n",
      "COMET INFO:     url                   : https://www.comet.ml/nikolai-semenov/resnet-tabular/55ecbb54c7ac4a6fa4a54689ade95992\n",
      "COMET INFO:   Metrics [count] (min, max):\n",
      "COMET INFO:     test_score [100]        : (0.8676712479038908, 0.8764915101682792)\n",
      "COMET INFO:     train_batch_loss [1289] : (0.3933541774749756, 0.70271235704422)\n",
      "COMET INFO:     train_loss [2473]       : (0.35201990604400635, 0.7065621018409729)\n",
      "COMET INFO:     train_score [100]       : (0.8669887320855292, 0.8789654588527495)\n",
      "COMET INFO:   Parameters:\n",
      "COMET INFO:     batch_size : 2048\n",
      "COMET INFO:     dataset    : SUSY\n",
      "COMET INFO:     model      : baseline\n",
      "COMET INFO:     n          : 16\n",
      "COMET INFO:     num_epochs : 100\n",
      "COMET INFO:     test_size  : 0.9\n",
      "COMET INFO:   Uploads:\n",
      "COMET INFO:     code                : 1 (12 KB)\n",
      "COMET INFO:     environment details : 1\n",
      "COMET INFO:     filename            : 1\n",
      "COMET INFO:     installed packages  : 1\n",
      "COMET INFO:     model graph         : 1\n",
      "COMET INFO:     os packages         : 1\n",
      "COMET INFO: ---------------------------\n"
     ]
    },
    {
     "name": "stdout",
     "output_type": "stream",
     "text": [
      "\n"
     ]
    },
    {
     "name": "stderr",
     "output_type": "stream",
     "text": [
      "COMET INFO: Uploading stats to Comet before program termination (may take several seconds)\n"
     ]
    }
   ],
   "source": [
    "for test_size in [0.99, 0.9]:\n",
    "    for n in [1, 4, 16]:\n",
    "        perform_experiment(\n",
    "            model=BaselineModel(SUSY.shape[1] - 1, n),\n",
    "            X=SUSY.values[:,1:],\n",
    "            y=SUSY.values[:,0],\n",
    "            test_size=test_size,\n",
    "            batch_size=2048,\n",
    "            num_epochs=100,\n",
    "            hyper_params={\n",
    "                \"model\": \"baseline\",\n",
    "                \"dataset\": \"SUSY\",\n",
    "                \"n\": n,\n",
    "            },\n",
    "            log_every=int((1 - test_size) * 200),\n",
    "            random_state=42)"
   ]
  },
  {
   "cell_type": "code",
   "execution_count": 13,
   "metadata": {
    "scrolled": true
   },
   "outputs": [
    {
     "name": "stderr",
     "output_type": "stream",
     "text": [
      "COMET INFO: Experiment is live on comet.ml https://www.comet.ml/nikolai-semenov/resnet-tabular/c5a1df493d334e77a2e68f6ada0f8228\n",
      "\n"
     ]
    },
    {
     "data": {
      "application/vnd.jupyter.widget-view+json": {
       "model_id": "8db2e58b88794aa7b87df6c2f492e1ff",
       "version_major": 2,
       "version_minor": 0
      },
      "text/plain": [
       "HBox(children=(FloatProgress(value=0.0, description='Epoch', style=ProgressStyle(description_width='initial'))…"
      ]
     },
     "metadata": {},
     "output_type": "display_data"
    },
    {
     "name": "stderr",
     "output_type": "stream",
     "text": [
      "COMET INFO: ---------------------------\n",
      "COMET INFO: Comet.ml Experiment Summary\n",
      "COMET INFO: ---------------------------\n",
      "COMET INFO:   Data:\n",
      "COMET INFO:     display_summary_level : 1\n",
      "COMET INFO:     url                   : https://www.comet.ml/nikolai-semenov/resnet-tabular/c5a1df493d334e77a2e68f6ada0f8228\n",
      "COMET INFO:   Metrics [count] (min, max):\n",
      "COMET INFO:     test_score [100]        : (0.4999997196827467, 0.668143728176235)\n",
      "COMET INFO:     train_batch_loss [2700] : (0.6272420883178711, 0.6962411403656006)\n",
      "COMET INFO:     train_loss [540]        : (0.6298243403434753, 0.6951794624328613)\n",
      "COMET INFO:     train_score [100]       : (0.5, 0.6692423597100982)\n",
      "COMET INFO:   Parameters:\n",
      "COMET INFO:     batch_size : 2048\n",
      "COMET INFO:     dataset    : HIGGS\n",
      "COMET INFO:     model      : baseline\n",
      "COMET INFO:     n          : 1\n",
      "COMET INFO:     num_epochs : 100\n",
      "COMET INFO:     test_size  : 0.99\n",
      "COMET INFO:   Uploads:\n",
      "COMET INFO:     code                : 1 (13 KB)\n",
      "COMET INFO:     environment details : 1\n",
      "COMET INFO:     filename            : 1\n",
      "COMET INFO:     installed packages  : 1\n",
      "COMET INFO:     model graph         : 1\n",
      "COMET INFO:     os packages         : 1\n",
      "COMET INFO: ---------------------------\n"
     ]
    },
    {
     "name": "stdout",
     "output_type": "stream",
     "text": [
      "\n"
     ]
    },
    {
     "name": "stderr",
     "output_type": "stream",
     "text": [
      "COMET INFO: Uploading stats to Comet before program termination (may take several seconds)\n",
      "COMET INFO: Experiment is live on comet.ml https://www.comet.ml/nikolai-semenov/resnet-tabular/f9e0aca8d35d478faebf711d07efb7fc\n",
      "\n"
     ]
    },
    {
     "data": {
      "application/vnd.jupyter.widget-view+json": {
       "model_id": "67c12b113cd349c8a78dbca2745325c5",
       "version_major": 2,
       "version_minor": 0
      },
      "text/plain": [
       "HBox(children=(FloatProgress(value=0.0, description='Epoch', style=ProgressStyle(description_width='initial'))…"
      ]
     },
     "metadata": {},
     "output_type": "display_data"
    },
    {
     "name": "stderr",
     "output_type": "stream",
     "text": [
      "COMET INFO: ---------------------------\n",
      "COMET INFO: Comet.ml Experiment Summary\n",
      "COMET INFO: ---------------------------\n",
      "COMET INFO:   Data:\n",
      "COMET INFO:     display_summary_level : 1\n",
      "COMET INFO:     url                   : https://www.comet.ml/nikolai-semenov/resnet-tabular/f9e0aca8d35d478faebf711d07efb7fc\n",
      "COMET INFO:   Metrics [count] (min, max):\n",
      "COMET INFO:     test_score [100]        : (0.4654738961236336, 0.7788292816354289)\n",
      "COMET INFO:     train_batch_loss [2700] : (0.5260930061340332, 0.7238398194313049)\n",
      "COMET INFO:     train_loss [540]        : (0.5391815304756165, 0.7238398194313049)\n",
      "COMET INFO:     train_score [100]       : (0.46960970298446314, 0.7862313828716758)\n",
      "COMET INFO:   Parameters:\n",
      "COMET INFO:     batch_size : 2048\n",
      "COMET INFO:     dataset    : HIGGS\n",
      "COMET INFO:     model      : baseline\n",
      "COMET INFO:     n          : 4\n",
      "COMET INFO:     num_epochs : 100\n",
      "COMET INFO:     test_size  : 0.99\n",
      "COMET INFO:   Uploads:\n",
      "COMET INFO:     code                : 1 (13 KB)\n",
      "COMET INFO:     environment details : 1\n",
      "COMET INFO:     filename            : 1\n",
      "COMET INFO:     installed packages  : 1\n",
      "COMET INFO:     model graph         : 1\n",
      "COMET INFO:     os packages         : 1\n",
      "COMET INFO: ---------------------------\n"
     ]
    },
    {
     "name": "stdout",
     "output_type": "stream",
     "text": [
      "\n"
     ]
    },
    {
     "name": "stderr",
     "output_type": "stream",
     "text": [
      "COMET INFO: Uploading stats to Comet before program termination (may take several seconds)\n",
      "COMET INFO: Still uploading\n",
      "COMET INFO: Experiment is live on comet.ml https://www.comet.ml/nikolai-semenov/resnet-tabular/57235f6de6844a4384c9ddf2ef2bd05a\n",
      "\n"
     ]
    },
    {
     "data": {
      "application/vnd.jupyter.widget-view+json": {
       "model_id": "019a5425bb624528809683348f2b3c46",
       "version_major": 2,
       "version_minor": 0
      },
      "text/plain": [
       "HBox(children=(FloatProgress(value=0.0, description='Epoch', style=ProgressStyle(description_width='initial'))…"
      ]
     },
     "metadata": {},
     "output_type": "display_data"
    },
    {
     "name": "stderr",
     "output_type": "stream",
     "text": [
      "COMET INFO: ---------------------------\n",
      "COMET INFO: Comet.ml Experiment Summary\n",
      "COMET INFO: ---------------------------\n",
      "COMET INFO:   Data:\n",
      "COMET INFO:     display_summary_level : 1\n",
      "COMET INFO:     url                   : https://www.comet.ml/nikolai-semenov/resnet-tabular/57235f6de6844a4384c9ddf2ef2bd05a\n",
      "COMET INFO:   Metrics [count] (min, max):\n",
      "COMET INFO:     test_score [100]        : (0.6285504222482281, 0.7914776731637464)\n",
      "COMET INFO:     train_batch_loss [2700] : (0.4751048684120178, 0.6928753852844238)\n",
      "COMET INFO:     train_loss [540]        : (0.4751048684120178, 0.6926392912864685)\n",
      "COMET INFO:     train_score [100]       : (0.6283405135226485, 0.8391350775807732)\n",
      "COMET INFO:   Parameters:\n",
      "COMET INFO:     batch_size : 2048\n",
      "COMET INFO:     dataset    : HIGGS\n",
      "COMET INFO:     model      : baseline\n",
      "COMET INFO:     n          : 16\n",
      "COMET INFO:     num_epochs : 100\n",
      "COMET INFO:     test_size  : 0.99\n",
      "COMET INFO:   Uploads:\n",
      "COMET INFO:     code                : 1 (13 KB)\n",
      "COMET INFO:     environment details : 1\n",
      "COMET INFO:     filename            : 1\n",
      "COMET INFO:     installed packages  : 1\n",
      "COMET INFO:     model graph         : 1\n",
      "COMET INFO:     os packages         : 1\n",
      "COMET INFO: ---------------------------\n"
     ]
    },
    {
     "name": "stdout",
     "output_type": "stream",
     "text": [
      "\n"
     ]
    },
    {
     "name": "stderr",
     "output_type": "stream",
     "text": [
      "COMET INFO: Uploading stats to Comet before program termination (may take several seconds)\n",
      "COMET INFO: Experiment is live on comet.ml https://www.comet.ml/nikolai-semenov/resnet-tabular/8502c83446d4447a8c51bfe43bac5f79\n",
      "\n"
     ]
    },
    {
     "data": {
      "application/vnd.jupyter.widget-view+json": {
       "model_id": "90b465bc8ac34c05953a855dacfcb19a",
       "version_major": 2,
       "version_minor": 0
      },
      "text/plain": [
       "HBox(children=(FloatProgress(value=0.0, description='Epoch', style=ProgressStyle(description_width='initial'))…"
      ]
     },
     "metadata": {},
     "output_type": "display_data"
    },
    {
     "name": "stderr",
     "output_type": "stream",
     "text": [
      "COMET INFO: ---------------------------\n",
      "COMET INFO: Comet.ml Experiment Summary\n",
      "COMET INFO: ---------------------------\n",
      "COMET INFO:   Data:\n",
      "COMET INFO:     display_summary_level : 1\n",
      "COMET INFO:     url                   : https://www.comet.ml/nikolai-semenov/resnet-tabular/8502c83446d4447a8c51bfe43bac5f79\n",
      "COMET INFO:   Metrics [count] (min, max):\n",
      "COMET INFO:     test_score [100]        : (0.6645082857849984, 0.7728288491629407)\n",
      "COMET INFO:     train_batch_loss [2831] : (0.536994993686676, 0.7003781795501709)\n",
      "COMET INFO:     train_loss [5385]       : (0.524305522441864, 0.7027407884597778)\n",
      "COMET INFO:     train_score [100]       : (0.664485892170342, 0.7727732850730479)\n",
      "COMET INFO:   Parameters:\n",
      "COMET INFO:     batch_size : 2048\n",
      "COMET INFO:     dataset    : HIGGS\n",
      "COMET INFO:     model      : baseline\n",
      "COMET INFO:     n          : 1\n",
      "COMET INFO:     num_epochs : 100\n",
      "COMET INFO:     test_size  : 0.9\n",
      "COMET INFO:   Uploads:\n",
      "COMET INFO:     code                : 1 (13 KB)\n",
      "COMET INFO:     environment details : 1\n",
      "COMET INFO:     filename            : 1\n",
      "COMET INFO:     installed packages  : 1\n",
      "COMET INFO:     model graph         : 1\n",
      "COMET INFO:     os packages         : 1\n",
      "COMET INFO: ---------------------------\n"
     ]
    },
    {
     "name": "stdout",
     "output_type": "stream",
     "text": [
      "\n"
     ]
    },
    {
     "name": "stderr",
     "output_type": "stream",
     "text": [
      "COMET INFO: Uploading stats to Comet before program termination (may take several seconds)\n",
      "COMET INFO: Experiment is live on comet.ml https://www.comet.ml/nikolai-semenov/resnet-tabular/ccb5b6abb7504596a4e7fc7fe31e90ce\n",
      "\n"
     ]
    },
    {
     "data": {
      "application/vnd.jupyter.widget-view+json": {
       "model_id": "4fccb04247ba46e298e121c86aa4c456",
       "version_major": 2,
       "version_minor": 0
      },
      "text/plain": [
       "HBox(children=(FloatProgress(value=0.0, description='Epoch', style=ProgressStyle(description_width='initial'))…"
      ]
     },
     "metadata": {},
     "output_type": "display_data"
    },
    {
     "name": "stderr",
     "output_type": "stream",
     "text": [
      "COMET INFO: ---------------------------\n",
      "COMET INFO: Comet.ml Experiment Summary\n",
      "COMET INFO: ---------------------------\n",
      "COMET INFO:   Data:\n",
      "COMET INFO:     display_summary_level : 1\n",
      "COMET INFO:     url                   : https://www.comet.ml/nikolai-semenov/resnet-tabular/ccb5b6abb7504596a4e7fc7fe31e90ce\n",
      "COMET INFO:   Metrics [count] (min, max):\n",
      "COMET INFO:     test_score [100]        : (0.6758191970245504, 0.8264466001232591)\n",
      "COMET INFO:     train_batch_loss [2831] : (0.47402480244636536, 0.69239342212677)\n",
      "COMET INFO:     train_loss [5385]       : (0.47207799553871155, 0.6938610076904297)\n",
      "COMET INFO:     train_score [100]       : (0.6759172097302438, 0.8274369674951643)\n",
      "COMET INFO:   Parameters:\n",
      "COMET INFO:     batch_size : 2048\n",
      "COMET INFO:     dataset    : HIGGS\n",
      "COMET INFO:     model      : baseline\n",
      "COMET INFO:     n          : 4\n",
      "COMET INFO:     num_epochs : 100\n",
      "COMET INFO:     test_size  : 0.9\n",
      "COMET INFO:   Uploads:\n",
      "COMET INFO:     code                : 1 (13 KB)\n",
      "COMET INFO:     environment details : 1\n",
      "COMET INFO:     filename            : 1\n",
      "COMET INFO:     installed packages  : 1\n",
      "COMET INFO:     model graph         : 1\n",
      "COMET INFO:     os packages         : 1\n",
      "COMET INFO: ---------------------------\n"
     ]
    },
    {
     "name": "stdout",
     "output_type": "stream",
     "text": [
      "\n"
     ]
    },
    {
     "name": "stderr",
     "output_type": "stream",
     "text": [
      "COMET INFO: Uploading stats to Comet before program termination (may take several seconds)\n",
      "COMET INFO: Experiment is live on comet.ml https://www.comet.ml/nikolai-semenov/resnet-tabular/3ffc0b7eda264c86a591a0a56424a9ec\n",
      "\n"
     ]
    },
    {
     "data": {
      "application/vnd.jupyter.widget-view+json": {
       "model_id": "e13bac5a919a49e5b95eeef519466f6e",
       "version_major": 2,
       "version_minor": 0
      },
      "text/plain": [
       "HBox(children=(FloatProgress(value=0.0, description='Epoch', style=ProgressStyle(description_width='initial'))…"
      ]
     },
     "metadata": {},
     "output_type": "display_data"
    },
    {
     "name": "stderr",
     "output_type": "stream",
     "text": [
      "COMET INFO: ---------------------------\n",
      "COMET INFO: Comet.ml Experiment Summary\n",
      "COMET INFO: ---------------------------\n",
      "COMET INFO:   Data:\n",
      "COMET INFO:     display_summary_level : 1\n",
      "COMET INFO:     url                   : https://www.comet.ml/nikolai-semenov/resnet-tabular/3ffc0b7eda264c86a591a0a56424a9ec\n",
      "COMET INFO:   Metrics [count] (min, max):\n",
      "COMET INFO:     test_score [100]        : (0.7315781731276296, 0.8465206299455973)\n",
      "COMET INFO:     train_batch_loss [2831] : (0.43582800030708313, 0.6931089758872986)\n",
      "COMET INFO:     train_loss [5385]       : (0.4083406329154968, 0.6947827935218811)\n",
      "COMET INFO:     train_score [100]       : (0.7314922409914278, 0.8602162494947416)\n",
      "COMET INFO:   Parameters:\n",
      "COMET INFO:     batch_size : 2048\n",
      "COMET INFO:     dataset    : HIGGS\n",
      "COMET INFO:     model      : baseline\n",
      "COMET INFO:     n          : 16\n",
      "COMET INFO:     num_epochs : 100\n",
      "COMET INFO:     test_size  : 0.9\n",
      "COMET INFO:   Uploads:\n",
      "COMET INFO:     code                : 1 (13 KB)\n",
      "COMET INFO:     environment details : 1\n",
      "COMET INFO:     filename            : 1\n",
      "COMET INFO:     installed packages  : 1\n",
      "COMET INFO:     model graph         : 1\n",
      "COMET INFO:     os packages         : 1\n",
      "COMET INFO: ---------------------------\n"
     ]
    },
    {
     "name": "stdout",
     "output_type": "stream",
     "text": [
      "\n"
     ]
    },
    {
     "name": "stderr",
     "output_type": "stream",
     "text": [
      "COMET INFO: Uploading stats to Comet before program termination (may take several seconds)\n"
     ]
    }
   ],
   "source": [
    "for test_size in [0.99, 0.9]:\n",
    "    for n in [1, 4, 16]:\n",
    "        perform_experiment(\n",
    "            model=BaselineModel(HIGGS.shape[1] - 1, n),\n",
    "            X=HIGGS.values[:,1:],\n",
    "            y=HIGGS.values[:,0],\n",
    "            test_size=test_size,\n",
    "            batch_size=2048,\n",
    "            num_epochs=100,\n",
    "            hyper_params={\n",
    "                \"model\": \"baseline\",\n",
    "                \"dataset\": \"HIGGS\",\n",
    "                \"n\": n,\n",
    "            },\n",
    "            log_every=int((1 - test_size) * 200),\n",
    "            random_state=42)"
   ]
  },
  {
   "cell_type": "code",
   "execution_count": 6,
   "metadata": {
    "scrolled": true
   },
   "outputs": [
    {
     "name": "stderr",
     "output_type": "stream",
     "text": [
      "COMET INFO: ---------------------------\n",
      "COMET INFO: Comet.ml Experiment Summary\n",
      "COMET INFO: ---------------------------\n",
      "COMET INFO:   Data:\n",
      "COMET INFO:     display_summary_level : 1\n",
      "COMET INFO:     url                   : https://www.comet.ml/nikolai-semenov/resnet-tabular/927492876e424d8ab57bc129b1e95cca\n",
      "COMET INFO:   Metrics [count] (min, max):\n",
      "COMET INFO:     test_score [62]        : (0.7973706603440791, 0.871258547126281)\n",
      "COMET INFO:     train_batch_loss [787] : (0.40036675333976746, 0.7019533514976501)\n",
      "COMET INFO:     train_loss [164]       : (0.4091244041919708, 0.701042652130127)\n",
      "COMET INFO:     train_score [63]       : (0.7958325106741773, 0.8709467166643625)\n",
      "COMET INFO:   Parameters:\n",
      "COMET INFO:     batch_size : 2048\n",
      "COMET INFO:     dataset    : SUSY\n",
      "COMET INFO:     model      : baseline\n",
      "COMET INFO:     n          : 64\n",
      "COMET INFO:     num_epochs : 100\n",
      "COMET INFO:     test_size  : 0.99\n",
      "COMET INFO:   Uploads:\n",
      "COMET INFO:     environment details : 1\n",
      "COMET INFO:     filename            : 1\n",
      "COMET INFO:     installed packages  : 1\n",
      "COMET INFO:     model graph         : 1\n",
      "COMET INFO:     os packages         : 1\n",
      "COMET INFO: ---------------------------\n",
      "COMET INFO: Experiment is live on comet.ml https://www.comet.ml/nikolai-semenov/resnet-tabular/aabe81bc63734b39b361528b6f920aa0\n",
      "\n"
     ]
    },
    {
     "data": {
      "application/vnd.jupyter.widget-view+json": {
       "model_id": "a85c9b34c4a94e67bfbd18fa9f0a0874",
       "version_major": 2,
       "version_minor": 0
      },
      "text/plain": [
       "HBox(children=(FloatProgress(value=0.0, description='Epoch', style=ProgressStyle(description_width='initial'))…"
      ]
     },
     "metadata": {},
     "output_type": "display_data"
    },
    {
     "name": "stderr",
     "output_type": "stream",
     "text": [
      "COMET INFO: ---------------------------\n",
      "COMET INFO: Comet.ml Experiment Summary\n",
      "COMET INFO: ---------------------------\n",
      "COMET INFO:   Data:\n",
      "COMET INFO:     display_summary_level : 1\n",
      "COMET INFO:     url                   : https://www.comet.ml/nikolai-semenov/resnet-tabular/aabe81bc63734b39b361528b6f920aa0\n",
      "COMET INFO:   Metrics [count] (min, max):\n",
      "COMET INFO:     test_score [100]        : (0.796108365206421, 0.8714959817245549)\n",
      "COMET INFO:     train_batch_loss [1250] : (0.3917686939239502, 0.6926658153533936)\n",
      "COMET INFO:     train_loss [260]        : (0.3917686939239502, 0.6929274797439575)\n",
      "COMET INFO:     train_score [100]       : (0.7939503975286111, 0.8716572365188996)\n",
      "COMET INFO:   Parameters:\n",
      "COMET INFO:     batch_size : 2048\n",
      "COMET INFO:     dataset    : SUSY\n",
      "COMET INFO:     model      : baseline\n",
      "COMET INFO:     n          : 8\n",
      "COMET INFO:     num_epochs : 100\n",
      "COMET INFO:     test_size  : 0.99\n",
      "COMET INFO:   Uploads:\n",
      "COMET INFO:     code                : 1 (4 KB)\n",
      "COMET INFO:     environment details : 1\n",
      "COMET INFO:     filename            : 1\n",
      "COMET INFO:     installed packages  : 1\n",
      "COMET INFO:     model graph         : 1\n",
      "COMET INFO:     os packages         : 1\n",
      "COMET INFO: ---------------------------\n"
     ]
    },
    {
     "name": "stdout",
     "output_type": "stream",
     "text": [
      "\n"
     ]
    },
    {
     "name": "stderr",
     "output_type": "stream",
     "text": [
      "COMET INFO: Uploading stats to Comet before program termination (may take several seconds)\n"
     ]
    }
   ],
   "source": [
    "perform_experiment(\n",
    "    model=BaselineModel(SUSY.shape[1] - 1, 8),\n",
    "    X=SUSY.values[:,1:],\n",
    "    y=SUSY.values[:,0],\n",
    "    test_size=0.99,\n",
    "    batch_size=2048,\n",
    "    num_epochs=100,\n",
    "    hyper_params={\n",
    "        \"model\": \"baseline\",\n",
    "        \"dataset\": \"SUSY\",\n",
    "        \"n\": 8,\n",
    "    },\n",
    "    log_every=2,\n",
    "    random_state=42)"
   ]
  },
  {
   "cell_type": "code",
   "execution_count": 7,
   "metadata": {
    "scrolled": true
   },
   "outputs": [
    {
     "name": "stderr",
     "output_type": "stream",
     "text": [
      "COMET INFO: Experiment is live on comet.ml https://www.comet.ml/nikolai-semenov/resnet-tabular/9518b49165eb4152a178070fc8815861\n",
      "\n"
     ]
    },
    {
     "data": {
      "application/vnd.jupyter.widget-view+json": {
       "model_id": "f1696ebd0abe437fadb2b39535ecf8f8",
       "version_major": 2,
       "version_minor": 0
      },
      "text/plain": [
       "HBox(children=(FloatProgress(value=0.0, description='Epoch', style=ProgressStyle(description_width='initial'))…"
      ]
     },
     "metadata": {},
     "output_type": "display_data"
    },
    {
     "name": "stderr",
     "output_type": "stream",
     "text": [
      "COMET INFO: ---------------------------\n",
      "COMET INFO: Comet.ml Experiment Summary\n",
      "COMET INFO: ---------------------------\n",
      "COMET INFO:   Data:\n",
      "COMET INFO:     display_summary_level : 1\n",
      "COMET INFO:     url                   : https://www.comet.ml/nikolai-semenov/resnet-tabular/9518b49165eb4152a178070fc8815861\n",
      "COMET INFO:   Metrics [count] (min, max):\n",
      "COMET INFO:     test_score [100]        : (0.8393643253064594, 0.8751830440004381)\n",
      "COMET INFO:     train_batch_loss [1230] : (0.3424268662929535, 0.6925416588783264)\n",
      "COMET INFO:     train_loss [1180]       : (0.3424268662929535, 0.694554328918457)\n",
      "COMET INFO:     train_score [100]       : (0.839010703039893, 0.8759452555672219)\n",
      "COMET INFO:   Parameters:\n",
      "COMET INFO:     batch_size : 2048\n",
      "COMET INFO:     dataset    : SUSY\n",
      "COMET INFO:     model      : baseline\n",
      "COMET INFO:     n          : 8\n",
      "COMET INFO:     num_epochs : 100\n",
      "COMET INFO:     test_size  : 0.95\n",
      "COMET INFO:   Uploads:\n",
      "COMET INFO:     code                : 1 (4 KB)\n",
      "COMET INFO:     environment details : 1\n",
      "COMET INFO:     filename            : 1\n",
      "COMET INFO:     installed packages  : 1\n",
      "COMET INFO:     model graph         : 1\n",
      "COMET INFO:     os packages         : 1\n",
      "COMET INFO: ---------------------------\n"
     ]
    },
    {
     "name": "stdout",
     "output_type": "stream",
     "text": [
      "\n"
     ]
    },
    {
     "name": "stderr",
     "output_type": "stream",
     "text": [
      "COMET INFO: Uploading stats to Comet before program termination (may take several seconds)\n",
      "COMET INFO: Experiment is live on comet.ml https://www.comet.ml/nikolai-semenov/resnet-tabular/b59659dce9bf4294a0112f67ed142721\n",
      "\n"
     ]
    },
    {
     "data": {
      "application/vnd.jupyter.widget-view+json": {
       "model_id": "2999f8e43caa488b904330a5dedb0baf",
       "version_major": 2,
       "version_minor": 0
      },
      "text/plain": [
       "HBox(children=(FloatProgress(value=0.0, description='Epoch', style=ProgressStyle(description_width='initial'))…"
      ]
     },
     "metadata": {},
     "output_type": "display_data"
    },
    {
     "name": "stderr",
     "output_type": "stream",
     "text": [
      "COMET INFO: ---------------------------\n",
      "COMET INFO: Comet.ml Experiment Summary\n",
      "COMET INFO: ---------------------------\n",
      "COMET INFO:   Data:\n",
      "COMET INFO:     display_summary_level : 1\n",
      "COMET INFO:     url                   : https://www.comet.ml/nikolai-semenov/resnet-tabular/b59659dce9bf4294a0112f67ed142721\n",
      "COMET INFO:   Metrics [count] (min, max):\n",
      "COMET INFO:     test_score [100]        : (0.8625079351328111, 0.8756468786345084)\n",
      "COMET INFO:     train_batch_loss [1230] : (0.37615084648132324, 0.6905171871185303)\n",
      "COMET INFO:     train_loss [1180]       : (0.37615084648132324, 0.691317617893219)\n",
      "COMET INFO:     train_score [100]       : (0.8617639822169381, 0.8806360743631283)\n",
      "COMET INFO:   Parameters:\n",
      "COMET INFO:     batch_size : 2048\n",
      "COMET INFO:     dataset    : SUSY\n",
      "COMET INFO:     model      : baseline\n",
      "COMET INFO:     n          : 32\n",
      "COMET INFO:     num_epochs : 100\n",
      "COMET INFO:     test_size  : 0.95\n",
      "COMET INFO:   Uploads:\n",
      "COMET INFO:     code                : 1 (4 KB)\n",
      "COMET INFO:     environment details : 1\n",
      "COMET INFO:     filename            : 1\n",
      "COMET INFO:     installed packages  : 1\n",
      "COMET INFO:     model graph         : 1\n",
      "COMET INFO:     os packages         : 1\n",
      "COMET INFO: ---------------------------\n"
     ]
    },
    {
     "name": "stdout",
     "output_type": "stream",
     "text": [
      "\n"
     ]
    },
    {
     "name": "stderr",
     "output_type": "stream",
     "text": [
      "COMET INFO: Uploading stats to Comet before program termination (may take several seconds)\n"
     ]
    }
   ],
   "source": [
    "for n in [8, 32]:\n",
    "    perform_experiment(\n",
    "        model=BaselineModel(SUSY.shape[1] - 1, n),\n",
    "        X=SUSY.values[:,1:],\n",
    "        y=SUSY.values[:,0],\n",
    "        test_size=0.95,\n",
    "        batch_size=2048,\n",
    "        num_epochs=100,\n",
    "        hyper_params={\n",
    "            \"model\": \"baseline\",\n",
    "            \"dataset\": \"SUSY\",\n",
    "            \"n\": n,\n",
    "        },\n",
    "        log_every=10,\n",
    "        random_state=42)"
   ]
  },
  {
   "cell_type": "code",
   "execution_count": 5,
   "metadata": {
    "scrolled": true
   },
   "outputs": [
    {
     "name": "stderr",
     "output_type": "stream",
     "text": [
      "COMET INFO: Experiment is live on comet.ml https://www.comet.ml/nikolai-semenov/resnet-tabular/841702b723984181ac6ae71b03c3d1fb\n",
      "\n"
     ]
    },
    {
     "data": {
      "application/vnd.jupyter.widget-view+json": {
       "model_id": "6f28b1d3136e4f55aa26d2872729a27c",
       "version_major": 2,
       "version_minor": 0
      },
      "text/plain": [
       "HBox(children=(FloatProgress(value=0.0, description='Epoch', style=ProgressStyle(description_width='initial'))…"
      ]
     },
     "metadata": {},
     "output_type": "display_data"
    },
    {
     "name": "stderr",
     "output_type": "stream",
     "text": [
      "COMET INFO: ---------------------------\n",
      "COMET INFO: Comet.ml Experiment Summary\n",
      "COMET INFO: ---------------------------\n",
      "COMET INFO:   Data:\n",
      "COMET INFO:     display_summary_level : 1\n",
      "COMET INFO:     url                   : https://www.comet.ml/nikolai-semenov/resnet-tabular/841702b723984181ac6ae71b03c3d1fb\n",
      "COMET INFO:   Metrics [count] (min, max):\n",
      "COMET INFO:     test_score [100]         : (0.6679174293543922, 0.7872175736072662)\n",
      "COMET INFO:     train_batch_loss [10750] : (0.2768632471561432, 0.6995792388916016)\n",
      "COMET INFO:     train_loss [2160]        : (0.2768632471561432, 0.6963033080101013)\n",
      "COMET INFO:     train_score [100]        : (0.6688740320797226, 0.9358235776680406)\n",
      "COMET INFO:   Parameters:\n",
      "COMET INFO:     batch_size : 512\n",
      "COMET INFO:     dataset    : HIGGS\n",
      "COMET INFO:     model      : baseline\n",
      "COMET INFO:     n          : 24\n",
      "COMET INFO:     num_epochs : 100\n",
      "COMET INFO:     test_size  : 0.99\n",
      "COMET INFO:   Uploads:\n",
      "COMET INFO:     code                : 1 (3 KB)\n",
      "COMET INFO:     environment details : 1\n",
      "COMET INFO:     filename            : 1\n",
      "COMET INFO:     installed packages  : 1\n",
      "COMET INFO:     model graph         : 1\n",
      "COMET INFO:     os packages         : 1\n",
      "COMET INFO: ---------------------------\n"
     ]
    },
    {
     "name": "stdout",
     "output_type": "stream",
     "text": [
      "\n"
     ]
    },
    {
     "name": "stderr",
     "output_type": "stream",
     "text": [
      "COMET INFO: Uploading stats to Comet before program termination (may take several seconds)\n"
     ]
    }
   ],
   "source": [
    "perform_experiment(\n",
    "    model=BaselineModel(HIGGS.shape[1] - 1, 24),\n",
    "    X=HIGGS.values[:,1:],\n",
    "    y=HIGGS.values[:,0],\n",
    "    test_size=0.99,\n",
    "    batch_size=512,\n",
    "    num_epochs=100,\n",
    "    hyper_params={\n",
    "        \"model\": \"baseline\",\n",
    "        \"dataset\": \"HIGGS\",\n",
    "        \"n\": 24,\n",
    "    },\n",
    "    log_every=2,\n",
    "    random_state=42)"
   ]
  },
  {
   "cell_type": "code",
   "execution_count": 6,
   "metadata": {
    "scrolled": true
   },
   "outputs": [
    {
     "name": "stderr",
     "output_type": "stream",
     "text": [
      "COMET INFO: Experiment is live on comet.ml https://www.comet.ml/nikolai-semenov/resnet-tabular/f3fe2c65e2a145d8bd9ff59dc0859061\n",
      "\n"
     ]
    },
    {
     "data": {
      "application/vnd.jupyter.widget-view+json": {
       "model_id": "b1eb3c68edb34c629888efc30e255a6a",
       "version_major": 2,
       "version_minor": 0
      },
      "text/plain": [
       "HBox(children=(FloatProgress(value=0.0, description='Epoch', style=ProgressStyle(description_width='initial'))…"
      ]
     },
     "metadata": {},
     "output_type": "display_data"
    },
    {
     "name": "stderr",
     "output_type": "stream",
     "text": [
      "COMET INFO: ---------------------------\n",
      "COMET INFO: Comet.ml Experiment Summary\n",
      "COMET INFO: ---------------------------\n",
      "COMET INFO:   Data:\n",
      "COMET INFO:     display_summary_level : 1\n",
      "COMET INFO:     url                   : https://www.comet.ml/nikolai-semenov/resnet-tabular/f3fe2c65e2a145d8bd9ff59dc0859061\n",
      "COMET INFO:   Metrics [count] (min, max):\n",
      "COMET INFO:     test_score [100]         : (0.7197794788403695, 0.836219516064709)\n",
      "COMET INFO:     train_batch_loss [10750] : (0.39437031745910645, 0.7062647342681885)\n",
      "COMET INFO:     train_loss [10720]       : (0.39437031745910645, 0.7053879499435425)\n",
      "COMET INFO:     train_score [100]        : (0.719347085846259, 0.8448127286359237)\n",
      "COMET INFO:   Parameters:\n",
      "COMET INFO:     batch_size : 512\n",
      "COMET INFO:     dataset    : HIGGS\n",
      "COMET INFO:     model      : baseline\n",
      "COMET INFO:     n          : 8\n",
      "COMET INFO:     num_epochs : 100\n",
      "COMET INFO:     test_size  : 0.95\n",
      "COMET INFO:   Uploads:\n",
      "COMET INFO:     code                : 1 (4 KB)\n",
      "COMET INFO:     environment details : 1\n",
      "COMET INFO:     filename            : 1\n",
      "COMET INFO:     installed packages  : 1\n",
      "COMET INFO:     model graph         : 1\n",
      "COMET INFO:     os packages         : 1\n",
      "COMET INFO: ---------------------------\n"
     ]
    },
    {
     "name": "stdout",
     "output_type": "stream",
     "text": [
      "\n"
     ]
    },
    {
     "name": "stderr",
     "output_type": "stream",
     "text": [
      "COMET INFO: Uploading stats to Comet before program termination (may take several seconds)\n",
      "COMET INFO: Experiment is live on comet.ml https://www.comet.ml/nikolai-semenov/resnet-tabular/05bbeace115b40acb2c58bad7506b734\n",
      "\n"
     ]
    },
    {
     "data": {
      "application/vnd.jupyter.widget-view+json": {
       "model_id": "2e62041abe0a49f582ebe1c9069c83cb",
       "version_major": 2,
       "version_minor": 0
      },
      "text/plain": [
       "HBox(children=(FloatProgress(value=0.0, description='Epoch', style=ProgressStyle(description_width='initial'))…"
      ]
     },
     "metadata": {},
     "output_type": "display_data"
    },
    {
     "name": "stderr",
     "output_type": "stream",
     "text": [
      "COMET INFO: ---------------------------\n",
      "COMET INFO: Comet.ml Experiment Summary\n",
      "COMET INFO: ---------------------------\n",
      "COMET INFO:   Data:\n",
      "COMET INFO:     display_summary_level : 1\n",
      "COMET INFO:     url                   : https://www.comet.ml/nikolai-semenov/resnet-tabular/05bbeace115b40acb2c58bad7506b734\n",
      "COMET INFO:   Metrics [count] (min, max):\n",
      "COMET INFO:     test_score [100]         : (0.75121915395032, 0.8354711956244475)\n",
      "COMET INFO:     train_batch_loss [10750] : (0.325880229473114, 0.6938849687576294)\n",
      "COMET INFO:     train_loss [10720]       : (0.325880229473114, 0.6990153789520264)\n",
      "COMET INFO:     train_score [100]        : (0.7513565698189232, 0.889915638688628)\n",
      "COMET INFO:   Parameters:\n",
      "COMET INFO:     batch_size : 512\n",
      "COMET INFO:     dataset    : HIGGS\n",
      "COMET INFO:     model      : baseline\n",
      "COMET INFO:     n          : 24\n",
      "COMET INFO:     num_epochs : 100\n",
      "COMET INFO:     test_size  : 0.95\n",
      "COMET INFO:   Uploads:\n",
      "COMET INFO:     code                : 1 (4 KB)\n",
      "COMET INFO:     environment details : 1\n",
      "COMET INFO:     filename            : 1\n",
      "COMET INFO:     installed packages  : 1\n",
      "COMET INFO:     model graph         : 1\n",
      "COMET INFO:     os packages         : 1\n",
      "COMET INFO: ---------------------------\n"
     ]
    },
    {
     "name": "stdout",
     "output_type": "stream",
     "text": [
      "\n"
     ]
    },
    {
     "name": "stderr",
     "output_type": "stream",
     "text": [
      "COMET INFO: Uploading stats to Comet before program termination (may take several seconds)\n"
     ]
    }
   ],
   "source": [
    "for test_size in [0.95]:\n",
    "    for n in [8, 24]:\n",
    "        perform_experiment(\n",
    "            model=BaselineModel(HIGGS.shape[1] - 1, n),\n",
    "            X=HIGGS.values[:,1:],\n",
    "            y=HIGGS.values[:,0],\n",
    "            test_size=test_size,\n",
    "            batch_size=512,\n",
    "            num_epochs=100,\n",
    "            hyper_params={\n",
    "                \"model\": \"baseline\",\n",
    "                \"dataset\": \"HIGGS\",\n",
    "                \"n\": n,\n",
    "            },\n",
    "            log_every=int((1 - test_size) * 200),\n",
    "            random_state=42)"
   ]
  },
  {
   "cell_type": "markdown",
   "metadata": {},
   "source": [
    "## ResNet model"
   ]
  },
  {
   "cell_type": "code",
   "execution_count": 10,
   "metadata": {},
   "outputs": [],
   "source": [
    "class ResNetUnit(nn.Module):\n",
    "    def __init__(self, external_size, internal_size):\n",
    "        super().__init__()\n",
    "        self.unit = nn.Sequential(\n",
    "            nn.Linear(external_size, internal_size),\n",
    "            nn.LeakyReLU(negative_slope=1e-1),\n",
    "            nn.Linear(internal_size, external_size),\n",
    "            nn.LeakyReLU(negative_slope=1e-1),\n",
    "        )\n",
    "        \n",
    "    def forward(self, x):\n",
    "        return x + self.unit(x)"
   ]
  },
  {
   "cell_type": "code",
   "execution_count": 13,
   "metadata": {},
   "outputs": [],
   "source": [
    "class ResNetSequentialBlocks(nn.Module):\n",
    "    def __init__(self, input_size, output_size, k_blocks, external_size, internal_size):\n",
    "        super().__init__()\n",
    "        self.blocks = nn.Sequential(*[\n",
    "            nn.Linear(input_size, external_size),\n",
    "            nn.LeakyReLU(negative_slope=1e-1),\n",
    "        ] + [\n",
    "            ResNetUnit(external_size, internal_size) for _ in range(k_blocks)\n",
    "        ] + [\n",
    "            nn.Linear(external_size, output_size),\n",
    "        ])\n",
    "    \n",
    "    def forward(self, x):\n",
    "        return self.blocks(x)"
   ]
  },
  {
   "cell_type": "code",
   "execution_count": 18,
   "metadata": {},
   "outputs": [],
   "source": [
    "class ResNet(nn.Module):\n",
    "    def __init__(self, input_size, n, k):\n",
    "        super().__init__()\n",
    "        self.model = nn.Sequential(\n",
    "            ResNetSequentialBlocks(input_size, 8 * n, k, max(input_size, 8 * n), min(input_size, 8 * n)),\n",
    "            nn.LeakyReLU(negative_slope=1e-1),\n",
    "            ResNetSequentialBlocks(8 * n, 6 * n, k, 8 * n, 6 * n),\n",
    "            nn.LeakyReLU(negative_slope=1e-1),\n",
    "            ResNetSequentialBlocks(6 * n, 4 * n, k, 6 * n, 4 * n),\n",
    "            nn.LeakyReLU(negative_slope=1e-1),\n",
    "            ResNetSequentialBlocks(4 * n, 3 * n, k, 4 * n, 3 * n),\n",
    "            nn.LeakyReLU(negative_slope=1e-1),\n",
    "            ResNetSequentialBlocks(3 * n, 2 * n, k, 3 * n, 2 * n),\n",
    "            nn.LeakyReLU(negative_slope=1e-1),\n",
    "            ResNetSequentialBlocks(2 * n, 1, k, 2 * n, 1),\n",
    "            nn.Sigmoid()\n",
    "        )\n",
    "        \n",
    "        def init_weights(layer):\n",
    "            if type(layer) == nn.Linear:\n",
    "                nn.init.normal_(layer.weight, std=1e-3)\n",
    "\n",
    "        self.model.apply(init_weights)\n",
    "    \n",
    "    def forward(self, x):\n",
    "        return self.model(x).reshape(-1)"
   ]
  },
  {
   "cell_type": "code",
   "execution_count": null,
   "metadata": {
    "scrolled": true
   },
   "outputs": [
    {
     "name": "stderr",
     "output_type": "stream",
     "text": [
      "COMET INFO: ---------------------------\n",
      "COMET INFO: Comet.ml Experiment Summary\n",
      "COMET INFO: ---------------------------\n",
      "COMET INFO:   Data:\n",
      "COMET INFO:     display_summary_level : 1\n",
      "COMET INFO:     url                   : https://www.comet.ml/nikolai-semenov/resnet-tabular/de6696caf74a471585186788b7a0d653\n",
      "COMET INFO:   Metrics [count] (min, max):\n",
      "COMET INFO:     test_score [7]         : 0.5\n",
      "COMET INFO:     train_batch_loss [100] : (0.6909967064857483, 0.7231723070144653)\n",
      "COMET INFO:     train_loss [21]        : (0.6912254691123962, 0.7223334908485413)\n",
      "COMET INFO:     train_score [8]        : (0.5, 0.8011566282784413)\n",
      "COMET INFO:   Parameters:\n",
      "COMET INFO:     batch_size : 2048\n",
      "COMET INFO:     dataset    : SUSY\n",
      "COMET INFO:     k          : 1\n",
      "COMET INFO:     model      : ResNet\n",
      "COMET INFO:     n          : 1\n",
      "COMET INFO:     num_epochs : 100\n",
      "COMET INFO:     test_size  : 0.99\n",
      "COMET INFO:   Uploads:\n",
      "COMET INFO:     environment details : 1\n",
      "COMET INFO:     filename            : 1\n",
      "COMET INFO:     installed packages  : 1\n",
      "COMET INFO:     model graph         : 1\n",
      "COMET INFO:     os packages         : 1\n",
      "COMET INFO: ---------------------------\n",
      "COMET INFO: Experiment is live on comet.ml https://www.comet.ml/nikolai-semenov/resnet-tabular/52a525d5e0ee41e487938e152604fc1f\n",
      "\n"
     ]
    },
    {
     "data": {
      "application/vnd.jupyter.widget-view+json": {
       "model_id": "5db9f5565f8c4af7999604cd0c1fe55d",
       "version_major": 2,
       "version_minor": 0
      },
      "text/plain": [
       "HBox(children=(FloatProgress(value=0.0, description='Epoch', style=ProgressStyle(description_width='initial'))…"
      ]
     },
     "metadata": {},
     "output_type": "display_data"
    },
    {
     "name": "stderr",
     "output_type": "stream",
     "text": [
      "COMET INFO: ---------------------------\n",
      "COMET INFO: Comet.ml Experiment Summary\n",
      "COMET INFO: ---------------------------\n",
      "COMET INFO:   Data:\n",
      "COMET INFO:     display_summary_level : 1\n",
      "COMET INFO:     url                   : https://www.comet.ml/nikolai-semenov/resnet-tabular/52a525d5e0ee41e487938e152604fc1f\n",
      "COMET INFO:   Metrics [count] (min, max):\n",
      "COMET INFO:     test_score [100]        : (0.5, 0.8714560755388525)\n",
      "COMET INFO:     train_batch_loss [4900] : (0.3638288974761963, 0.779365062713623)\n",
      "COMET INFO:     train_loss [980]        : (0.3638288974761963, 0.7804949879646301)\n",
      "COMET INFO:     train_score [100]       : (0.5, 0.8711488640582667)\n",
      "COMET INFO:   Parameters:\n",
      "COMET INFO:     batch_size : 512\n",
      "COMET INFO:     dataset    : SUSY\n",
      "COMET INFO:     k          : 1\n",
      "COMET INFO:     model      : ResNet\n",
      "COMET INFO:     n          : 1\n",
      "COMET INFO:     num_epochs : 100\n",
      "COMET INFO:     test_size  : 0.99\n",
      "COMET INFO:   Uploads:\n",
      "COMET INFO:     code                : 1 (12 KB)\n",
      "COMET INFO:     environment details : 1\n",
      "COMET INFO:     filename            : 1\n",
      "COMET INFO:     installed packages  : 1\n",
      "COMET INFO:     model graph         : 1\n",
      "COMET INFO:     os packages         : 1\n",
      "COMET INFO: ---------------------------\n"
     ]
    },
    {
     "name": "stdout",
     "output_type": "stream",
     "text": [
      "\n"
     ]
    },
    {
     "name": "stderr",
     "output_type": "stream",
     "text": [
      "COMET INFO: Uploading stats to Comet before program termination (may take several seconds)\n",
      "COMET INFO: Experiment is live on comet.ml https://www.comet.ml/nikolai-semenov/resnet-tabular/c0ef407e7e5b4209b2ab9dcbd7a2784c\n",
      "\n"
     ]
    },
    {
     "data": {
      "application/vnd.jupyter.widget-view+json": {
       "model_id": "8366e9149b1a4531a8d77693d4fd71e2",
       "version_major": 2,
       "version_minor": 0
      },
      "text/plain": [
       "HBox(children=(FloatProgress(value=0.0, description='Epoch', style=ProgressStyle(description_width='initial'))…"
      ]
     },
     "metadata": {},
     "output_type": "display_data"
    },
    {
     "name": "stderr",
     "output_type": "stream",
     "text": [
      "COMET INFO: ---------------------------\n",
      "COMET INFO: Comet.ml Experiment Summary\n",
      "COMET INFO: ---------------------------\n",
      "COMET INFO:   Data:\n",
      "COMET INFO:     display_summary_level : 1\n",
      "COMET INFO:     url                   : https://www.comet.ml/nikolai-semenov/resnet-tabular/c0ef407e7e5b4209b2ab9dcbd7a2784c\n",
      "COMET INFO:   Metrics [count] (min, max):\n",
      "COMET INFO:     test_score [100]        : (0.4999963523396863, 0.5000036476603138)\n",
      "COMET INFO:     train_batch_loss [4900] : (0.676424503326416, 0.7024120092391968)\n",
      "COMET INFO:     train_loss [980]        : (0.676424503326416, 0.7006546854972839)\n",
      "COMET INFO:     train_score [100]       : (0.49998677396596164, 0.5000132260340384)\n",
      "COMET INFO:   Parameters:\n",
      "COMET INFO:     batch_size : 512\n",
      "COMET INFO:     dataset    : SUSY\n",
      "COMET INFO:     k          : 4\n",
      "COMET INFO:     model      : ResNet\n",
      "COMET INFO:     n          : 1\n",
      "COMET INFO:     num_epochs : 100\n",
      "COMET INFO:     test_size  : 0.99\n",
      "COMET INFO:   Uploads:\n",
      "COMET INFO:     code                : 1 (12 KB)\n",
      "COMET INFO:     environment details : 1\n",
      "COMET INFO:     filename            : 1\n",
      "COMET INFO:     installed packages  : 1\n",
      "COMET INFO:     model graph         : 1\n",
      "COMET INFO:     os packages         : 1\n",
      "COMET INFO: ---------------------------\n"
     ]
    },
    {
     "name": "stdout",
     "output_type": "stream",
     "text": [
      "\n"
     ]
    },
    {
     "name": "stderr",
     "output_type": "stream",
     "text": [
      "COMET INFO: Uploading stats to Comet before program termination (may take several seconds)\n",
      "COMET INFO: Experiment is live on comet.ml https://www.comet.ml/nikolai-semenov/resnet-tabular/f12027f2b7114b5fa6a6309aacf1cdb1\n",
      "\n"
     ]
    },
    {
     "data": {
      "application/vnd.jupyter.widget-view+json": {
       "model_id": "2a779be475e64bfe84761e1f6a122728",
       "version_major": 2,
       "version_minor": 0
      },
      "text/plain": [
       "HBox(children=(FloatProgress(value=0.0, description='Epoch', style=ProgressStyle(description_width='initial'))…"
      ]
     },
     "metadata": {},
     "output_type": "display_data"
    }
   ],
   "source": [
    "for test_size in [0.99, 0.9]:\n",
    "    for n in [1, 4, 8, 16, 24, 32]:\n",
    "        for k in [1, 4, 16]:\n",
    "            perform_experiment(\n",
    "                model=ResNet(SUSY.shape[1] - 1, n, k),\n",
    "                X=SUSY.values[:,1:],\n",
    "                y=SUSY.values[:,0],\n",
    "                test_size=test_size,\n",
    "                batch_size=512,\n",
    "                num_epochs=100,\n",
    "                hyper_params={\n",
    "                    \"model\": \"ResNet\",\n",
    "                    \"dataset\": \"SUSY\",\n",
    "                    \"n\": n,\n",
    "                    \"k\": k\n",
    "                },\n",
    "                log_every=int((1 - test_size) * 200),\n",
    "                random_state=42)"
   ]
  }
 ],
 "metadata": {
  "kernelspec": {
   "display_name": "Python 3",
   "language": "python",
   "name": "python3"
  },
  "language_info": {
   "codemirror_mode": {
    "name": "ipython",
    "version": 3
   },
   "file_extension": ".py",
   "mimetype": "text/x-python",
   "name": "python",
   "nbconvert_exporter": "python",
   "pygments_lexer": "ipython3",
   "version": "3.6.9"
  }
 },
 "nbformat": 4,
 "nbformat_minor": 4
}
